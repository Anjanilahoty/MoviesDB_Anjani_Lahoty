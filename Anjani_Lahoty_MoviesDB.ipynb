{
  "nbformat": 4,
  "nbformat_minor": 0,
  "metadata": {
    "colab": {
      "name": "Anjani_Lahoty_MoviesDB.ipynb",
      "provenance": [],
      "collapsed_sections": []
    },
    "kernelspec": {
      "name": "python3",
      "display_name": "Python 3"
    },
    "language_info": {
      "name": "python"
    }
  },
  "cells": [
    {
      "cell_type": "markdown",
      "metadata": {
        "id": "-HTYY3N9eqCA"
      },
      "source": [
        "Importing SQLite3 Module and Connecting to the Database and Creating a Database"
      ]
    },
    {
      "cell_type": "code",
      "metadata": {
        "id": "MbEE4jLpd2Rz"
      },
      "source": [
        "import sqlite3\n",
        "connection = sqlite3.connect(\"movies.db\")"
      ],
      "execution_count": 1,
      "outputs": []
    },
    {
      "cell_type": "markdown",
      "metadata": {
        "id": "9j4ifdoLe7QY"
      },
      "source": [
        "Creating a cursor to execute queries and Creating a Table"
      ]
    },
    {
      "cell_type": "code",
      "metadata": {
        "colab": {
          "base_uri": "https://localhost:8080/"
        },
        "id": "Il3zez4pfBsP",
        "outputId": "529a1739-c7e6-4f34-e985-0f9a4a7a086c"
      },
      "source": [
        "cursor = connection.cursor()\n",
        "cursor.execute(\" CREATE TABLE movies (name TEXT, actor TEXT, actress TEXT, director TEXT, year INTEGER)\")\n"
      ],
      "execution_count": 2,
      "outputs": [
        {
          "output_type": "execute_result",
          "data": {
            "text/plain": [
              "<sqlite3.Cursor at 0x7f25154e1ce0>"
            ]
          },
          "metadata": {},
          "execution_count": 2
        }
      ]
    },
    {
      "cell_type": "markdown",
      "metadata": {
        "id": "7SPgZMQFfvv4"
      },
      "source": [
        "Inserting Values into the Movies Table"
      ]
    },
    {
      "cell_type": "code",
      "metadata": {
        "colab": {
          "base_uri": "https://localhost:8080/"
        },
        "id": "FUPVCxfHf4Ce",
        "outputId": "dad74577-5e0b-4c8d-abcd-8cb6c0864225"
      },
      "source": [
        "cursor.execute(\"INSERT INTO movies VALUES('war','Hrithik','Vaani Kapoor','Siddharth',2019)\")\n",
        "cursor.execute(\"INSERT INTO movies VALUES('3 Idiots', 'Aamir Khan','Kareena Kapoor','RajKumar Hirani',2009)\")\n",
        "cursor.execute(\"INSERT INTO movies VALUES('Zero','SRK','katrina','Aanand',2018)\")\n",
        "cursor.execute(\"INSERT INTO movies VALUES('Sanju','Ranbir','Sonam','Rajkumar',2018)\")\n",
        "cursor.execute(\"INSERT INTO movies VALUES('Raees','SRK','Maahira','Rahul',2017)\")"
      ],
      "execution_count": 3,
      "outputs": [
        {
          "output_type": "execute_result",
          "data": {
            "text/plain": [
              "<sqlite3.Cursor at 0x7f25154e1ce0>"
            ]
          },
          "metadata": {},
          "execution_count": 3
        }
      ]
    },
    {
      "cell_type": "markdown",
      "metadata": {
        "id": "sVaUShL6h650"
      },
      "source": [
        "Reading Data from the Database and Simple SELECT statement to query all rows from the Movies table"
      ]
    },
    {
      "cell_type": "code",
      "metadata": {
        "colab": {
          "base_uri": "https://localhost:8080/"
        },
        "id": "1o5oMNZFiCu1",
        "outputId": "0c205cff-b382-4ee5-82bf-548d39eb73ca"
      },
      "source": [
        "rows = cursor.execute(\"SELECT * FROM movies\").fetchall()\n",
        "for i in rows:\n",
        "  name,actor,actress,director,year = i\n",
        "  print(name+\"\\t\"+actor+\"\\t\"+actress+\"\\t\"+director+\"\\t\"+str(year))\n"
      ],
      "execution_count": 6,
      "outputs": [
        {
          "output_type": "stream",
          "name": "stdout",
          "text": [
            "war\tHrithik\tVaani Kapoor\tSiddharth\t2019\n",
            "3 Idiots\tAamir Khan\tKareena Kapoor\tRajKumar Hirani\t2009\n",
            "Zero\tSRK\tkatrina\tAanand\t2018\n",
            "Sanju\tRanbir\tSonam\tRajkumar\t2018\n",
            "Raees\tSRK\tMaahira\tRahul\t2017\n"
          ]
        }
      ]
    },
    {
      "cell_type": "markdown",
      "metadata": {
        "id": "3gLuX7Snj9aF"
      },
      "source": [
        "Query with parameter like actor name to select movies based on the actor's name."
      ]
    },
    {
      "cell_type": "code",
      "metadata": {
        "colab": {
          "base_uri": "https://localhost:8080/"
        },
        "id": "0np83ygnkOTB",
        "outputId": "5388a439-50b5-41f1-a717-5b75e18db22f"
      },
      "source": [
        "actor_rows = cursor.execute(\"SELECT * FROM movies WHERE actor='SRK'\").fetchall()\n",
        "for i in actor_rows:\n",
        "  name,actor,actress,director,year = i\n",
        "  print(name+\"\\t\"+actor+\"\\t\"+actress+\"\\t\"+director+\"\\t\"+str(year))"
      ],
      "execution_count": 7,
      "outputs": [
        {
          "output_type": "stream",
          "name": "stdout",
          "text": [
            "Zero\tSRK\tkatrina\tAanand\t2018\n",
            "Raees\tSRK\tMaahira\tRahul\t2017\n"
          ]
        }
      ]
    }
  ]
}